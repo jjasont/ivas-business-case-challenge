{
  "nbformat": 4,
  "nbformat_minor": 0,
  "metadata": {
    "colab": {
      "name": "ivas Business Case Challenge 2018.ipynb",
      "version": "0.3.2",
      "provenance": [],
      "collapsed_sections": [
        "WU8oOaHsoH58"
      ],
      "toc_visible": true
    },
    "kernelspec": {
      "name": "python3",
      "display_name": "Python 3"
    },
    "accelerator": "GPU"
  },
  "cells": [
    {
      "metadata": {
        "id": "HZquU7GPnTpt",
        "colab_type": "text"
      },
      "cell_type": "markdown",
      "source": [
        "## Pre-work on Data"
      ]
    },
    {
      "metadata": {
        "id": "7v0vZ0DDX25q",
        "colab_type": "text"
      },
      "cell_type": "markdown",
      "source": [
        "### Import Module"
      ]
    },
    {
      "metadata": {
        "id": "JMTPNaElX6cO",
        "colab_type": "code",
        "colab": {}
      },
      "cell_type": "code",
      "source": [
        "import tensorflow as tf\n",
        "from tensorflow import keras\n",
        "\n",
        "import numpy as np\n",
        "import pandas as pd"
      ],
      "execution_count": 0,
      "outputs": []
    },
    {
      "metadata": {
        "id": "vg9cwGW1XC3T",
        "colab_type": "text"
      },
      "cell_type": "markdown",
      "source": [
        "### Load File"
      ]
    },
    {
      "metadata": {
        "id": "E33m5GvbV1SR",
        "colab_type": "code",
        "colab": {
          "base_uri": "https://localhost:8080/",
          "height": 34
        },
        "outputId": "31b56d5a-eb58-4bae-bd32-ade3125bb216"
      },
      "cell_type": "code",
      "source": [
        "from google.colab import drive\n",
        "drive.mount('/content/gdrive')"
      ],
      "execution_count": 4,
      "outputs": [
        {
          "output_type": "stream",
          "text": [
            "Mounted at /content/gdrive\n"
          ],
          "name": "stdout"
        }
      ]
    },
    {
      "metadata": {
        "id": "Q8Cnr_94XLQe",
        "colab_type": "code",
        "colab": {}
      },
      "cell_type": "code",
      "source": [
        "# change the directory of the data\n",
        "data = pd.read_csv('/content/gdrive/My Drive/Colab Notebook/Data/ivas_business_hackathon_final_2018.csv')\n",
        "#month_cols = [col for col in data.columns if 'month' in col]\n",
        "\n",
        "#data[month_cols] /= 12\n",
        "data.drop(columns=['issuer'], inplace = True)"
      ],
      "execution_count": 0,
      "outputs": []
    },
    {
      "metadata": {
        "id": "UfDOe3R4Yib_",
        "colab_type": "code",
        "colab": {}
      },
      "cell_type": "code",
      "source": [
        "train_data = data[data.Data_Set == 'train'].drop(columns=['acct_card_no','Data_Set'])\n",
        "test_data = data[data.Data_Set == 'test'].drop(columns=['acct_card_no','Data_Set'])\n",
        "\n",
        "train_labels = train_data.Dormant_Flag\n",
        "test_labels = test_data.Dormant_Flag"
      ],
      "execution_count": 0,
      "outputs": []
    },
    {
      "metadata": {
        "id": "vy4rmUfYdSvI",
        "colab_type": "code",
        "colab": {}
      },
      "cell_type": "code",
      "source": [
        "feature_column = [col for col in train_data.columns if 'Dormant_Flag' not in col]\n",
        "train_data = train_data[feature_column]\n",
        "test_data = test_data[feature_column]\n",
        "\n",
        "mean = train_data.mean(axis=0)\n",
        "std = train_data.std(axis=0)\n",
        "train_data = (train_data - mean) / std\n",
        "test_data = (test_data - mean) / std"
      ],
      "execution_count": 0,
      "outputs": []
    },
    {
      "metadata": {
        "id": "nK8F8Fbxnb9Z",
        "colab_type": "text"
      },
      "cell_type": "markdown",
      "source": [
        "### Feature Selection Method"
      ]
    },
    {
      "metadata": {
        "id": "FcN-CNN7nLmn",
        "colab_type": "text"
      },
      "cell_type": "markdown",
      "source": [
        "#### Feature Importance"
      ]
    },
    {
      "metadata": {
        "id": "nj1n4FFxYeb3",
        "colab_type": "code",
        "colab": {
          "base_uri": "https://localhost:8080/",
          "height": 119
        },
        "outputId": "dc5e7c05-d8e1-49a2-92ac-0f43d878d694"
      },
      "cell_type": "code",
      "source": [
        "from sklearn import metrics\n",
        "from sklearn.ensemble import ExtraTreesClassifier\n",
        "\n",
        "# create a base classifier used to evaluate a subset of attributes\n",
        "model = ExtraTreesClassifier()\n",
        "model.fit(train_data, train_labels)\n",
        "# display the relative importance of each attribute\n",
        "#print(model.feature_importances_)"
      ],
      "execution_count": 34,
      "outputs": [
        {
          "output_type": "execute_result",
          "data": {
            "text/plain": [
              "ExtraTreesClassifier(bootstrap=False, class_weight=None, criterion='gini',\n",
              "           max_depth=None, max_features='auto', max_leaf_nodes=None,\n",
              "           min_impurity_decrease=0.0, min_impurity_split=None,\n",
              "           min_samples_leaf=1, min_samples_split=2,\n",
              "           min_weight_fraction_leaf=0.0, n_estimators=10, n_jobs=1,\n",
              "           oob_score=False, random_state=None, verbose=0, warm_start=False)"
            ]
          },
          "metadata": {
            "tags": []
          },
          "execution_count": 34
        }
      ]
    },
    {
      "metadata": {
        "id": "HTeeV2Zklkir",
        "colab_type": "code",
        "colab": {
          "base_uri": "https://localhost:8080/",
          "height": 187
        },
        "outputId": "0a70b294-ffaa-4406-eee2-270bc900370f"
      },
      "cell_type": "code",
      "source": [
        "feature_etc = [feature_column[i] for i in sorted(range(len(model.feature_importances_)), key=lambda k: model.feature_importances_[k], reverse=True)[0:10]]\n",
        "feature_etc"
      ],
      "execution_count": 35,
      "outputs": [
        {
          "output_type": "execute_result",
          "data": {
            "text/plain": [
              "['B_LAST_6MNTHS_TOTAL_TXNS',\n",
              " 'active_months',\n",
              " 'B_LAST_3MNTHS_TOTAL_TXNS',\n",
              " 'RATIO_DI_TOTAL_TXNS_L1_L6',\n",
              " 'vintage_months',\n",
              " 'B_D_LST_9MNTHS_TOTAL_TXNS',\n",
              " 'd_active_months',\n",
              " 'RATIO_D_TOTAL_TXNS_L1_L6',\n",
              " 'B_D_LST_6MNTHS_TOTAL_TXNS',\n",
              " 'B_PRV_6MNTHS_TOTAL_AMT']"
            ]
          },
          "metadata": {
            "tags": []
          },
          "execution_count": 35
        }
      ]
    },
    {
      "metadata": {
        "id": "WU8oOaHsoH58",
        "colab_type": "text"
      },
      "cell_type": "markdown",
      "source": [
        "#### Univariate Selection (must not admit negative value feature)"
      ]
    },
    {
      "metadata": {
        "id": "SqnJ7LO2oaiG",
        "colab_type": "code",
        "colab": {}
      },
      "cell_type": "code",
      "source": [
        "from sklearn.feature_selection import SelectKBest\n",
        "from sklearn.feature_selection import chi2\n",
        "\n",
        "test = SelectKBest(score_func=chi2, k=10)\n",
        "fit = test.fit(train_data, train_labels)\n",
        "# summarize scores\n",
        "np.set_printoptions(precision=3)\n",
        "#print(fit.scores_)\n",
        "features = fit.transform(train_data)\n",
        "# summarize selected features\n",
        "#print(features[0:5,:])"
      ],
      "execution_count": 0,
      "outputs": []
    },
    {
      "metadata": {
        "id": "cTrwwqxrqZre",
        "colab_type": "code",
        "colab": {}
      },
      "cell_type": "code",
      "source": [
        "feature_us = [feature_column[i] for i in sorted(range(len(fit.scores_)), key=lambda k: fit.scores_[k], reverse=True)[0:10]]\n",
        "feature_us"
      ],
      "execution_count": 0,
      "outputs": []
    },
    {
      "metadata": {
        "id": "BX_gHLG1slvk",
        "colab_type": "code",
        "colab": {}
      },
      "cell_type": "code",
      "source": [
        "feature_etc_us = list(set(feature_etc).union(set(feature_us)))\n",
        "feature_etc_us"
      ],
      "execution_count": 0,
      "outputs": []
    },
    {
      "metadata": {
        "id": "369lE50zs3Yz",
        "colab_type": "text"
      },
      "cell_type": "markdown",
      "source": [
        "#### Recursive Feature Elimination from Feature Importance and Univariate Selection"
      ]
    },
    {
      "metadata": {
        "id": "onU85hHatMJB",
        "colab_type": "code",
        "colab": {
          "base_uri": "https://localhost:8080/",
          "height": 68
        },
        "outputId": "61201505-3a48-4278-d12f-42a1087bf15a"
      },
      "cell_type": "code",
      "source": [
        "from sklearn.feature_selection import RFE\n",
        "from sklearn.linear_model import LogisticRegression\n",
        "model = LogisticRegression()\n",
        "rfe = RFE(model, 7) # 7 final parameter\n",
        "fit = rfe.fit(train_data[feature_etc], train_labels)\n",
        "print(\"Num Features: {}\".format(fit.n_features_))\n",
        "print(\"Selected Features: {}\".format(fit.support_))\n",
        "print(\"Feature Ranking: {}\".format(fit.ranking_))"
      ],
      "execution_count": 46,
      "outputs": [
        {
          "output_type": "stream",
          "text": [
            "Num Features: 7\n",
            "Selected Features: [ True  True  True False  True  True  True False  True False]\n",
            "Feature Ranking: [1 1 1 3 1 1 1 2 1 4]\n"
          ],
          "name": "stdout"
        }
      ]
    },
    {
      "metadata": {
        "id": "UnWkDqx6txbS",
        "colab_type": "code",
        "colab": {
          "base_uri": "https://localhost:8080/",
          "height": 136
        },
        "outputId": "58db94a5-f2d2-4663-c5a9-87110cfb3347"
      },
      "cell_type": "code",
      "source": [
        "from itertools import compress\n",
        "feature_etc_us_ref = list(compress(feature_etc_us, fit.support_.tolist()))\n",
        "feature_etc_us_ref"
      ],
      "execution_count": 47,
      "outputs": [
        {
          "output_type": "execute_result",
          "data": {
            "text/plain": [
              "['B_D_LST_1MNTH_TOTAL_TXNS',\n",
              " 'RATIO_DI_TOTAL_AMT_L1_L6',\n",
              " 'RATIO_DI_TOTAL_TXNS_L1_L3',\n",
              " 'B_LAST_12MNTHS_TOTAL_TXNS',\n",
              " 'B_LAST_3MNTHS_TOTAL_TXNS',\n",
              " 'vintage_months',\n",
              " 'RATIO_DI_TOTAL_AMT_L6_P6']"
            ]
          },
          "metadata": {
            "tags": []
          },
          "execution_count": 47
        }
      ]
    },
    {
      "metadata": {
        "id": "gTiWJmwQvJ5H",
        "colab_type": "text"
      },
      "cell_type": "markdown",
      "source": [
        "## Create Layer"
      ]
    },
    {
      "metadata": {
        "id": "rRHOqqhtvNl5",
        "colab_type": "code",
        "colab": {}
      },
      "cell_type": "code",
      "source": [
        "model = keras.Sequential([\n",
        "    keras.layers.Dense(128, activation=tf.nn.relu, input_shape=(train_data.shape[1],)),\n",
        "    keras.layers.Dense(128, activation=tf.nn.relu),\n",
        "    keras.layers.Dense(128, activation=tf.nn.relu),\n",
        "    keras.layers.Dense(128, activation=tf.nn.relu),\n",
        "    keras.layers.Dense(2, activation=tf.nn.softmax)\n",
        "])"
      ],
      "execution_count": 0,
      "outputs": []
    },
    {
      "metadata": {
        "id": "T5vWYAd9vdQk",
        "colab_type": "code",
        "colab": {}
      },
      "cell_type": "code",
      "source": [
        "model.compile(optimizer=tf.train.AdamOptimizer(), \n",
        "              loss='sparse_categorical_crossentropy',\n",
        "              metrics=['accuracy'])"
      ],
      "execution_count": 0,
      "outputs": []
    },
    {
      "metadata": {
        "id": "X1TbJ6rWveUb",
        "colab_type": "text"
      },
      "cell_type": "markdown",
      "source": [
        "## Train Model"
      ]
    },
    {
      "metadata": {
        "id": "gZ9RwsI9vg3i",
        "colab_type": "code",
        "colab": {
          "base_uri": "https://localhost:8080/",
          "height": 374
        },
        "outputId": "aeb5471f-ec5e-4774-c108-131e9cf74637"
      },
      "cell_type": "code",
      "source": [
        "model.fit(train_data, train_labels, epochs=10)"
      ],
      "execution_count": 99,
      "outputs": [
        {
          "output_type": "stream",
          "text": [
            "Epoch 1/10\n",
            "214457/214457 [==============================] - 14s 65us/step - loss: 0.5703 - acc: 0.7147\n",
            "Epoch 2/10\n",
            "214457/214457 [==============================] - 13s 62us/step - loss: 0.5634 - acc: 0.7189\n",
            "Epoch 3/10\n",
            "214457/214457 [==============================] - 14s 64us/step - loss: 0.5590 - acc: 0.7202\n",
            "Epoch 4/10\n",
            "214457/214457 [==============================] - 13s 63us/step - loss: 0.5536 - acc: 0.7237\n",
            "Epoch 5/10\n",
            "214457/214457 [==============================] - 13s 63us/step - loss: 0.5470 - acc: 0.7272\n",
            "Epoch 6/10\n",
            "214457/214457 [==============================] - 14s 63us/step - loss: 0.5398 - acc: 0.7318\n",
            "Epoch 7/10\n",
            "214457/214457 [==============================] - 13s 63us/step - loss: 0.5311 - acc: 0.7368\n",
            "Epoch 8/10\n",
            "214457/214457 [==============================] - 14s 64us/step - loss: 0.5223 - acc: 0.7420\n",
            "Epoch 9/10\n",
            "214457/214457 [==============================] - 13s 63us/step - loss: 0.5126 - acc: 0.7479\n",
            "Epoch 10/10\n",
            "214457/214457 [==============================] - 13s 63us/step - loss: 0.5033 - acc: 0.7536\n"
          ],
          "name": "stdout"
        },
        {
          "output_type": "execute_result",
          "data": {
            "text/plain": [
              "<tensorflow.python.keras.callbacks.History at 0x7fb8f1e689e8>"
            ]
          },
          "metadata": {
            "tags": []
          },
          "execution_count": 99
        }
      ]
    },
    {
      "metadata": {
        "id": "xHgiJnDH2LHm",
        "colab_type": "code",
        "colab": {
          "base_uri": "https://localhost:8080/",
          "height": 51
        },
        "outputId": "01f0e9f4-50cd-4573-e24d-542e3b1595f0"
      },
      "cell_type": "code",
      "source": [
        "test_loss, test_acc = model.evaluate(test_data, test_labels)\n",
        "\n",
        "print('Test accuracy:', test_acc)"
      ],
      "execution_count": 100,
      "outputs": [
        {
          "output_type": "stream",
          "text": [
            "71485/71485 [==============================] - 2s 33us/step\n",
            "Test accuracy: 0.7390921172265565\n"
          ],
          "name": "stdout"
        }
      ]
    },
    {
      "metadata": {
        "id": "8GwWqsiv2ZvI",
        "colab_type": "code",
        "colab": {}
      },
      "cell_type": "code",
      "source": [
        "predictions = model.predict(test_data)"
      ],
      "execution_count": 0,
      "outputs": []
    },
    {
      "metadata": {
        "id": "uHUFcDxq2dvb",
        "colab_type": "code",
        "colab": {
          "base_uri": "https://localhost:8080/",
          "height": 68
        },
        "outputId": "2c081d1e-5635-4524-ba50-8d9e9806038b"
      },
      "cell_type": "code",
      "source": [
        "k = 201\n",
        "print('Prob = {}'.format(predictions[k]))\n",
        "print('Prediction result is {}'.format(np.argmax(predictions[k])))\n",
        "print('Original result is {}'.format(test_labels.iloc[k]))\n",
        "\n"
      ],
      "execution_count": 102,
      "outputs": [
        {
          "output_type": "stream",
          "text": [
            "Prob = [0.706 0.294]\n",
            "Prediction result is 0\n",
            "Original result is 0\n"
          ],
          "name": "stdout"
        }
      ]
    }
  ]
}